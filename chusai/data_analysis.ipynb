{
 "cells": [
  {
   "cell_type": "code",
   "execution_count": 1,
   "metadata": {
    "collapsed": true
   },
   "outputs": [],
   "source": [
    "import pandas as pd\n",
    "from pandas import Series, DataFrame\n",
    "import numpy as np\n",
    "import csv\n",
    "import matplotlib.pyplot as plt\n",
    "import datetime\n",
    "import math\n",
    "from datetime import *\n",
    "import gensim\n",
    "from gensim.models.doc2vec import Doc2Vec\n",
    "\n"
   ]
  },
  {
   "cell_type": "code",
   "execution_count": 2,
   "metadata": {},
   "outputs": [
    {
     "name": "stdout",
     "output_type": "stream",
     "text": [
      "<class 'pandas.core.frame.DataFrame'>\n",
      "RangeIndex: 50000 entries, 0 to 49999\n",
      "Data columns (total 5 columns):\n",
      "prefix              50000 non-null object\n",
      "query_prediction    49042 non-null object\n",
      "title               50000 non-null object\n",
      "tag                 50000 non-null object\n",
      "label               50000 non-null int64\n",
      "dtypes: int64(1), object(4)\n",
      "memory usage: 1.9+ MB\n",
      "None\n",
      "<class 'pandas.core.frame.DataFrame'>\n",
      "RangeIndex: 50000 entries, 0 to 49999\n",
      "Data columns (total 5 columns):\n",
      "prefix              50000 non-null object\n",
      "query_prediction    49036 non-null object\n",
      "title               50000 non-null object\n",
      "tag                 50000 non-null object\n",
      "label               0 non-null float64\n",
      "dtypes: float64(1), object(4)\n",
      "memory usage: 1.9+ MB\n",
      "None\n"
     ]
    }
   ],
   "source": [
    "train_df = pd.read_table('../data/oppo_round1_train_20180926.txt', names=['prefix', 'query_prediction', 'title', 'tag', 'label'], header=None, quoting=3)\n",
    "valid_df = pd.read_table('../data/oppo_round1_vali_20180926.txt', names=['prefix', 'query_prediction', 'title', 'tag', 'label'], header=None, quoting=3)\n",
    "test_df = pd.read_table('../data/oppo_round1_test_A_20180926.txt', names=['prefix', 'query_prediction', 'title', 'tag', 'label'], header=None, quoting=3)\n",
    "print(valid_df.info())\n",
    "print(test_df.info())\n",
    "\n"
   ]
  },
  {
   "cell_type": "code",
   "execution_count": 3,
   "metadata": {},
   "outputs": [
    {
     "name": "stdout",
     "output_type": "stream",
     "text": [
      "37248\n",
      "0.38815506872852235\n",
      "0.3747345\n",
      "0.3778705636743215\n",
      "0.37626\n"
     ]
    }
   ],
   "source": [
    "print(len(train_df[train_df.query_prediction.isnull()]))\n",
    "print(np.mean(train_df[train_df.query_prediction.isnull()]['label']))\n",
    "print(np.mean(train_df['label']))\n",
    "print(np.mean(valid_df[valid_df.query_prediction.isnull()]['label']))\n",
    "print(np.mean(valid_df['label']))\n",
    "\n"
   ]
  },
  {
   "cell_type": "code",
   "execution_count": 2,
   "metadata": {},
   "outputs": [
    {
     "name": "stdout",
     "output_type": "stream",
     "text": [
      "<class 'pandas.core.frame.DataFrame'>\n",
      "RangeIndex: 250000 entries, 0 to 249999\n",
      "Data columns (total 5 columns):\n",
      "prefix              250000 non-null object\n",
      "query_prediction    250000 non-null object\n",
      "title               250000 non-null object\n",
      "tag                 250000 non-null object\n",
      "label               0 non-null float64\n",
      "dtypes: float64(1), object(4)\n",
      "memory usage: 9.5+ MB\n",
      "None\n"
     ]
    }
   ],
   "source": [
    "train_df = pd.read_table('../data/oppo_round1_train_20180929.txt', names=['prefix', 'query_prediction', 'title', 'tag', 'label'], header=None, quoting=3)\n",
    "valid_df = pd.read_table('../data/oppo_round1_vali_20180929.txt', names=['prefix', 'query_prediction', 'title', 'tag', 'label'], header=None, quoting=3)\n",
    "train_df = pd.concat([train_df, valid_df])\n",
    "train_df.reset_index(inplace=True)\n",
    "train_df['index'] = train_df.index\n",
    "\n",
    "test_df = pd.read_table('../data/oppo_round1_test_B_20181106.txt', names=['prefix', 'query_prediction', 'title', 'tag', 'label'], header=None, quoting=3)\n",
    "# test_df = pd.read_table('../data/oppo_round1_vali_20180926.txt', names=['prefix', 'query_prediction', 'title', 'tag', 'label'], header=None, quoting=3)\n",
    "print(test_df.info())\n"
   ]
  },
  {
   "cell_type": "code",
   "execution_count": 7,
   "metadata": {},
   "outputs": [
    {
     "name": "stdout",
     "output_type": "stream",
     "text": [
      "228115\n",
      "69080\n",
      "162754\n"
     ]
    }
   ],
   "source": [
    "train_prefix_set = set(train_df['prefix'])\n",
    "\n",
    "test_df['is_prefix_in_train'] = test_df['prefix'].map(lambda x : 1 if x in train_prefix_set else 0)\n",
    "print(len(test_df[test_df.is_prefix_in_train == 1]))\n",
    "print(len(set(test_df['prefix'])))\n",
    "print(len(train_prefix_set))\n"
   ]
  },
  {
   "cell_type": "code",
   "execution_count": 31,
   "metadata": {},
   "outputs": [
    {
     "name": "stdout",
     "output_type": "stream",
     "text": [
      "<class 'pandas.core.frame.DataFrame'>\n",
      "RangeIndex: 2000000 entries, 0 to 1999999\n",
      "Data columns (total 5 columns):\n",
      "prefix              object\n",
      "query_prediction    object\n",
      "title               object\n",
      "tag                 object\n",
      "label               int64\n",
      "dtypes: int64(1), object(4)\n",
      "memory usage: 76.3+ MB\n",
      "None\n",
      "  prefix                                   query_prediction            title  \\\n",
      "0     小品  {\"小品大全宋小宝\": \"0.009\", \"小品相亲\": \"0.012\", \"小品剧本\": ...               小品   \n",
      "1   1368  {\"13688cc赛马会\": \"0.059\", \"13685367892\": \"0.124\"...  HCG大于1368%2C正常吗   \n",
      "2   1368  {\"13688cc赛马会\": \"0.059\", \"13685367892\": \"0.124\"...            1368年   \n",
      "3     银耳  {\"银耳汤的功效\": \"0.012\", \"银耳为什么不能天天吃\": \"0.009\", \"银耳...         银耳红枣汤的做法   \n",
      "4   月经量少  {\"月经量少喝红糖水好吗\": \"0.010\", \"月经量少该怎么调理\": \"0.016\", ...         月经量少怎么调理   \n",
      "\n",
      "  tag  label  \n",
      "0  阅读      0  \n",
      "1  健康      0  \n",
      "2  百科      1  \n",
      "3  菜谱      1  \n",
      "4  百科      0  \n"
     ]
    }
   ],
   "source": [
    "train_df = pd.read_table('../data/oppo_round1_train_20180929.txt', names=['prefix', 'query_prediction', 'title', 'tag', 'label'], header=None, quoting=3)\n",
    "print(train_df.info())\n",
    "print(train_df.head())\n"
   ]
  },
  {
   "cell_type": "code",
   "execution_count": 32,
   "metadata": {},
   "outputs": [
    {
     "name": "stdout",
     "output_type": "stream",
     "text": [
      "                                    query_prediction prefix\n",
      "0  {\"小品大全宋小宝\": \"0.009\", \"小品相亲\": \"0.012\", \"小品剧本\": ...     小品\n",
      "1  {\"13688cc赛马会\": \"0.059\", \"13685367892\": \"0.124\"...   1368\n",
      "2  {\"13688cc赛马会\": \"0.059\", \"13685367892\": \"0.124\"...   1368\n",
      "3  {\"银耳汤的功效\": \"0.012\", \"银耳为什么不能天天吃\": \"0.009\", \"银耳...     银耳\n",
      "4  {\"月经量少喝红糖水好吗\": \"0.010\", \"月经量少该怎么调理\": \"0.016\", ...   月经量少\n"
     ]
    }
   ],
   "source": [
    "train_df['query_prediction_dict'] = train_df['query_prediction'].astype(str).map(lambda x : eval(x))\n",
    "print(train_df[['query_prediction', 'prefix']].head())\n",
    "\n",
    "\n"
   ]
  },
  {
   "cell_type": "code",
   "execution_count": 33,
   "metadata": {},
   "outputs": [
    {
     "name": "stdout",
     "output_type": "stream",
     "text": [
      "                        query_prediction_values_list  query_prediction_len\n",
      "0  [0.009, 0.012, 0.020, 0.066, 0.007, 0.010, 0.1...                    10\n",
      "1  [0.059, 0.124, 0.029, 0.070, 0.022, 0.042, 0.0...                     9\n",
      "2  [0.059, 0.124, 0.029, 0.070, 0.022, 0.042, 0.0...                     9\n",
      "3  [0.012, 0.009, 0.050, 0.045, 0.053, 0.014, 0.0...                    10\n",
      "4  [0.010, 0.016, 0.009, 0.009, 0.569, 0.016, 0.0...                    10\n"
     ]
    }
   ],
   "source": [
    "train_df['query_prediction_values_list'] = train_df['query_prediction_dict'].map(lambda x : list(x.values()))\n",
    "train_df['query_prediction_keys_list'] = train_df['query_prediction_dict'].map(lambda x : list(x.keys()))\n",
    "train_df['query_prediction_len'] = train_df['query_prediction_values_list'].map(lambda x : len(x))\n",
    "print(train_df[['query_prediction_values_list', 'query_prediction_len']].head())\n",
    "\n"
   ]
  },
  {
   "cell_type": "code",
   "execution_count": 23,
   "metadata": {},
   "outputs": [
    {
     "name": "stdout",
     "output_type": "stream",
     "text": [
      "                        label\n",
      "query_prediction_len         \n",
      "0                        6926\n",
      "1                       13713\n",
      "2                       14593\n",
      "3                       11998\n",
      "4                       11814\n",
      "5                       13207\n",
      "6                       12399\n",
      "7                       14982\n",
      "8                      128500\n",
      "9                      299634\n",
      "10                    1472234\n"
     ]
    }
   ],
   "source": [
    "query_prediction_len_pivot_table = pd.pivot_table(train_df, index='query_prediction_len', values='label', aggfunc=len)\n",
    "print(query_prediction_len_pivot_table)\n",
    "\n",
    "\n"
   ]
  },
  {
   "cell_type": "code",
   "execution_count": 34,
   "metadata": {
    "scrolled": true
   },
   "outputs": [
    {
     "name": "stdout",
     "output_type": "stream",
     "text": [
      "  prefix  prefix_number\n",
      "0      #             41\n",
      "1      %             33\n",
      "2      &             14\n",
      "3    (女人              1\n",
      "4   *p++              1\n",
      "               prefix\n",
      "prefix_number        \n",
      "1               45173\n",
      "2               36675\n",
      "3               17138\n",
      "4               10095\n",
      "5                7165\n",
      "6                5136\n",
      "7                3884\n",
      "8                3043\n",
      "9                2536\n",
      "10               2123\n",
      "11               1762\n",
      "12               1555\n",
      "13               1354\n",
      "14               1215\n",
      "15               1041\n",
      "16                901\n",
      "17                795\n",
      "18                753\n",
      "19                682\n",
      "20                659\n",
      "21                540\n",
      "22                519\n",
      "23                485\n",
      "24                460\n",
      "25                405\n",
      "26                352\n",
      "27                364\n",
      "28                330\n",
      "29                318\n",
      "30                276\n",
      "...               ...\n",
      "2813                1\n",
      "2834                1\n",
      "3033                1\n",
      "3158                1\n",
      "3323                1\n",
      "3382                1\n",
      "3437                1\n",
      "3498                1\n",
      "3722                1\n",
      "3760                1\n",
      "3833                1\n",
      "3892                1\n",
      "4494                1\n",
      "4500                1\n",
      "4564                1\n",
      "4581                1\n",
      "4851                1\n",
      "4955                1\n",
      "4991                1\n",
      "5171                1\n",
      "5295                1\n",
      "5363                1\n",
      "5379                1\n",
      "7039                1\n",
      "8400                1\n",
      "8469                1\n",
      "8509                1\n",
      "9580                1\n",
      "11151               1\n",
      "20066               1\n",
      "\n",
      "[823 rows x 1 columns]\n"
     ]
    }
   ],
   "source": [
    "prefix_pivot_table = pd.pivot_table(train_df, index='prefix', values='label', aggfunc=len)\n",
    "prefix_pivot_table.reset_index(inplace=True)\n",
    "prefix_pivot_table.rename(columns={'label' : 'prefix_number'}, inplace=True)\n",
    "prefix_number_pivot_table = pd.pivot_table(prefix_pivot_table, index='prefix_number', values='prefix', aggfunc=len)\n",
    "print(prefix_pivot_table.head())\n",
    "print(prefix_number_pivot_table)\n",
    "\n"
   ]
  },
  {
   "cell_type": "code",
   "execution_count": 35,
   "metadata": {
    "scrolled": true
   },
   "outputs": [
    {
     "name": "stdout",
     "output_type": "stream",
     "text": [
      "                                    query_prediction  query_prediction_number\n",
      "0  {\"#*\": \"0.065\", \"#什么意思\": \"0.065\", \"#n/a是什么意思\":...                       41\n",
      "1              {\"%2c...8一\": \"0.053\", \"%2c\": \"0.044\"}                       33\n",
      "2  {\"&nbsp\": \"0.022\", \"&怎么读\": \"0.104\", \"&g90tvk75...                       14\n",
      "3  {\"- 千千音乐\": \"0.079\", \"- 百度\": \"0.274\", \"- 魔镜原创摄影...                        1\n",
      "4  {\". 新闻\": \"0.008\", \". 新闻美女丑事\": \"0.012\", \". 新闻 新...                        9\n",
      "                         query_prediction\n",
      "query_prediction_number                  \n",
      "1                                   42779\n",
      "2                                   35024\n",
      "3                                   16782\n",
      "4                                   10001\n",
      "5                                    7121\n",
      "6                                    5142\n",
      "7                                    3873\n",
      "8                                    3047\n",
      "9                                    2540\n",
      "10                                   2121\n",
      "11                                   1771\n",
      "12                                   1558\n",
      "13                                   1344\n",
      "14                                   1216\n",
      "15                                   1043\n",
      "16                                    901\n",
      "17                                    796\n",
      "18                                    753\n",
      "19                                    684\n",
      "20                                    656\n",
      "21                                    539\n",
      "22                                    521\n",
      "23                                    487\n",
      "24                                    460\n",
      "25                                    409\n",
      "26                                    351\n",
      "27                                    363\n",
      "28                                    330\n",
      "29                                    317\n",
      "30                                    276\n",
      "...                                   ...\n",
      "2834                                    1\n",
      "3033                                    1\n",
      "3158                                    1\n",
      "3323                                    1\n",
      "3382                                    1\n",
      "3437                                    1\n",
      "3498                                    1\n",
      "3722                                    1\n",
      "3760                                    1\n",
      "3833                                    1\n",
      "3892                                    1\n",
      "4494                                    1\n",
      "4500                                    1\n",
      "4564                                    1\n",
      "4581                                    1\n",
      "4851                                    1\n",
      "4955                                    1\n",
      "4991                                    1\n",
      "5171                                    1\n",
      "5295                                    1\n",
      "5363                                    1\n",
      "5379                                    1\n",
      "6926                                    1\n",
      "7039                                    1\n",
      "8400                                    1\n",
      "8469                                    1\n",
      "8509                                    1\n",
      "9580                                    1\n",
      "11151                                   1\n",
      "20066                                   1\n",
      "\n",
      "[824 rows x 1 columns]\n"
     ]
    }
   ],
   "source": [
    "query_prediction_pivot_table = pd.pivot_table(train_df, index='query_prediction', values='label', aggfunc=len)\n",
    "query_prediction_pivot_table.reset_index(inplace=True)\n",
    "query_prediction_pivot_table.rename(columns={'label' : 'query_prediction_number'}, inplace=True)\n",
    "query_prediction_number_pivot_table = pd.pivot_table(query_prediction_pivot_table, index='query_prediction_number', values='query_prediction', aggfunc=len)\n",
    "print(query_prediction_pivot_table.head())\n",
    "print(query_prediction_number_pivot_table)\n",
    "\n"
   ]
  },
  {
   "cell_type": "code",
   "execution_count": 36,
   "metadata": {
    "scrolled": true
   },
   "outputs": [
    {
     "name": "stdout",
     "output_type": "stream",
     "text": [
      "                     prefix\n",
      "prefix_query_number        \n",
      "1                     45173\n",
      "2                     36675\n",
      "3                     17138\n",
      "4                     10095\n",
      "5                      7165\n",
      "6                      5136\n",
      "7                      3884\n",
      "8                      3043\n",
      "9                      2536\n",
      "10                     2123\n",
      "11                     1762\n",
      "12                     1555\n",
      "13                     1354\n",
      "14                     1215\n",
      "15                     1041\n",
      "16                      901\n",
      "17                      795\n",
      "18                      753\n",
      "19                      682\n",
      "20                      659\n",
      "21                      540\n",
      "22                      519\n",
      "23                      485\n",
      "24                      460\n",
      "25                      405\n",
      "26                      352\n",
      "27                      364\n",
      "28                      330\n",
      "29                      318\n",
      "30                      276\n",
      "...                     ...\n",
      "2813                      1\n",
      "2834                      1\n",
      "3033                      1\n",
      "3158                      1\n",
      "3323                      1\n",
      "3382                      1\n",
      "3437                      1\n",
      "3498                      1\n",
      "3722                      1\n",
      "3760                      1\n",
      "3833                      1\n",
      "3892                      1\n",
      "4494                      1\n",
      "4500                      1\n",
      "4564                      1\n",
      "4581                      1\n",
      "4851                      1\n",
      "4955                      1\n",
      "4991                      1\n",
      "5171                      1\n",
      "5295                      1\n",
      "5363                      1\n",
      "5379                      1\n",
      "7039                      1\n",
      "8400                      1\n",
      "8469                      1\n",
      "8509                      1\n",
      "9580                      1\n",
      "11151                     1\n",
      "20066                     1\n",
      "\n",
      "[823 rows x 1 columns]\n"
     ]
    }
   ],
   "source": [
    "prefix_query_pivot_table = pd.pivot_table(train_df, index=['prefix', 'query_prediction'], values='label', aggfunc=len)\n",
    "prefix_query_pivot_table.reset_index(inplace=True)\n",
    "prefix_query_pivot_table.rename(columns={'label' : 'prefix_query_number'}, inplace=True)\n",
    "prefix_query_number_query_pivot_table = pd.pivot_table(prefix_query_pivot_table, index='prefix_query_number', values='prefix', aggfunc=len)\n",
    "print(prefix_query_number_query_pivot_table)\n"
   ]
  },
  {
   "cell_type": "code",
   "execution_count": 38,
   "metadata": {},
   "outputs": [
    {
     "name": "stdout",
     "output_type": "stream",
     "text": [
      "<class 'pandas.core.frame.DataFrame'>\n",
      "RangeIndex: 50000 entries, 0 to 49999\n",
      "Data columns (total 5 columns):\n",
      "prefix              50000 non-null object\n",
      "query_prediction    50000 non-null object\n",
      "title               50000 non-null object\n",
      "tag                 50000 non-null object\n",
      "label               50000 non-null int64\n",
      "dtypes: int64(1), object(4)\n",
      "memory usage: 1.9+ MB\n",
      "None\n",
      "  prefix                                   query_prediction  title tag  label\n",
      "0   重庆旅游  {\"重庆旅游景区\": \"0.018\", \"重庆旅游攻略\": \"0.373\", \"重庆旅游景点...  皇包车旅行  应用      0\n",
      "1   婆婆来了  {\"婆婆来了大结局\": \"0.021\", \"婆婆来了电视剧\": \"0.100\", \"婆婆来了...   搜狐视频  应用      0\n",
      "2    张国荣  {\"张国荣遗体很恐怖\": \"0.020\", \"张国荣头像\": \"0.013\", \"张国荣24...    张国荣  歌手      0\n",
      "3     陌陌  {\"陌陌晒奶\": \"0.008\", \"陌陌下载安装\": \"0.009\", \"陌陌交友\": \"...     陌陌  百科      0\n",
      "4     畅游  {\"畅游阁\": \"0.322\", \"畅游六零年代\": \"0.134\", \"畅游书城82212...    李畅游  百科      0\n"
     ]
    }
   ],
   "source": [
    "valid_df = pd.read_table('../data/oppo_round1_vali_20180929.txt', names=['prefix', 'query_prediction', 'title', 'tag', 'label'], header=None, quoting=3)\n",
    "print(valid_df.info())\n",
    "print(valid_df.head())\n"
   ]
  },
  {
   "cell_type": "code",
   "execution_count": 39,
   "metadata": {},
   "outputs": [
    {
     "name": "stdout",
     "output_type": "stream",
     "text": [
      "                                    query_prediction  title\n",
      "0  {\"重庆旅游景区\": \"0.018\", \"重庆旅游攻略\": \"0.373\", \"重庆旅游景点...  皇包车旅行\n",
      "1  {\"婆婆来了大结局\": \"0.021\", \"婆婆来了电视剧\": \"0.100\", \"婆婆来了...   搜狐视频\n",
      "2  {\"张国荣遗体很恐怖\": \"0.020\", \"张国荣头像\": \"0.013\", \"张国荣24...    张国荣\n",
      "3  {\"陌陌晒奶\": \"0.008\", \"陌陌下载安装\": \"0.009\", \"陌陌交友\": \"...     陌陌\n",
      "4  {\"畅游阁\": \"0.322\", \"畅游六零年代\": \"0.134\", \"畅游书城82212...    李畅游\n"
     ]
    }
   ],
   "source": [
    "valid_df['query_prediction'] = valid_df['query_prediction'].astype(str)\n",
    "print(valid_df[['query_prediction', 'title']].head())\n",
    "\n"
   ]
  },
  {
   "cell_type": "code",
   "execution_count": 41,
   "metadata": {},
   "outputs": [
    {
     "name": "stdout",
     "output_type": "stream",
     "text": [
      "111910\n"
     ]
    }
   ],
   "source": [
    "prefix_repeat_set = set(prefix_pivot_table['prefix'][prefix_pivot_table.prefix_number > 1])\n",
    "print(len(prefix_repeat_set))\n",
    "\n"
   ]
  },
  {
   "cell_type": "code",
   "execution_count": 42,
   "metadata": {},
   "outputs": [
    {
     "name": "stdout",
     "output_type": "stream",
     "text": [
      "  prefix  is_repeat_prefix\n",
      "0     小品                 1\n",
      "1   1368                 1\n",
      "2   1368                 1\n",
      "3     银耳                 1\n",
      "4   月经量少                 1\n"
     ]
    }
   ],
   "source": [
    "train_df['is_repeat_prefix'] = train_df['prefix'].map(lambda x : 1 if x in prefix_repeat_set else 0)\n",
    "print(train_df[['prefix', 'is_repeat_prefix']].head())\n",
    "\n"
   ]
  },
  {
   "cell_type": "code",
   "execution_count": null,
   "metadata": {
    "collapsed": true
   },
   "outputs": [],
   "source": [
    "\n",
    "\n"
   ]
  }
 ],
 "metadata": {
  "kernelspec": {
   "display_name": "Python 3",
   "language": "python",
   "name": "python3"
  },
  "language_info": {
   "codemirror_mode": {
    "name": "ipython",
    "version": 3
   },
   "file_extension": ".py",
   "mimetype": "text/x-python",
   "name": "python",
   "nbconvert_exporter": "python",
   "pygments_lexer": "ipython3",
   "version": "3.6.1"
  }
 },
 "nbformat": 4,
 "nbformat_minor": 2
}
