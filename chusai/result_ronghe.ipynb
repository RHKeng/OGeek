{
 "cells": [
  {
   "cell_type": "code",
   "execution_count": 1,
   "metadata": {
    "collapsed": true
   },
   "outputs": [],
   "source": [
    "import numpy as np \n",
    "import pandas as pd\n",
    "import time\n",
    "import datetime\n",
    "import gc\n",
    "from sklearn.model_selection import KFold, cross_val_score, train_test_split\n",
    "from sklearn.model_selection import StratifiedKFold\n",
    "from sklearn.metrics import roc_auc_score, log_loss\n",
    "import lightgbm as lgb\n",
    "from sklearn.preprocessing import OneHotEncoder, LabelEncoder\n",
    "from sklearn.feature_extraction.text import CountVectorizer\n",
    "from sklearn.feature_selection import chi2, SelectPercentile\n",
    "import math\n",
    "from sklearn.metrics import f1_score\n",
    "import jieba\n",
    "import jieba.posseg as psg\n",
    "from collections import Counter\n",
    "import functools\n",
    "from gensim.models import word2vec\n",
    "import Levenshtein\n"
   ]
  },
  {
   "cell_type": "code",
   "execution_count": 2,
   "metadata": {},
   "outputs": [
    {
     "name": "stdout",
     "output_type": "stream",
     "text": [
      "   is_prefix_in_train  predicted_score\n",
      "0                   1         0.060153\n",
      "1                   1         0.702566\n",
      "2                   1         0.678097\n",
      "3                   1         0.286608\n",
      "4                   1         0.092973\n"
     ]
    }
   ],
   "source": [
    "keng_result_df = pd.read_csv('../result/keng_score.csv')\n",
    "yuna_result_df = pd.read_csv('../result/lgb1_select_pred.csv')\n",
    "print(keng_result_df.head())\n"
   ]
  },
  {
   "cell_type": "code",
   "execution_count": 3,
   "metadata": {
    "collapsed": true
   },
   "outputs": [],
   "source": [
    "yuna_result_df['is_prefix_in_train'] = keng_result_df['is_prefix_in_train']\n",
    "yuna_result_df.rename(columns={'pred':'predicted_score'}, inplace=True)\n"
   ]
  },
  {
   "cell_type": "code",
   "execution_count": 4,
   "metadata": {},
   "outputs": [
    {
     "name": "stdout",
     "output_type": "stream",
     "text": [
      "0.4446379748502132\n",
      "0.4446454488950832\n"
     ]
    }
   ],
   "source": [
    "print(np.mean(keng_result_df['predicted_score'][keng_result_df.is_prefix_in_train == 0]))\n",
    "print(np.mean(keng_result_df['predicted_score'][keng_result_df.is_prefix_in_train == 1]))\n"
   ]
  },
  {
   "cell_type": "code",
   "execution_count": 5,
   "metadata": {},
   "outputs": [
    {
     "name": "stdout",
     "output_type": "stream",
     "text": [
      "original mean :  0.4493946473263437\n",
      "0.44464061240463637\n",
      "0.44462622176804295\n"
     ]
    }
   ],
   "source": [
    "yuna_test_prefix0_df = yuna_result_df[yuna_result_df.is_prefix_in_train == 0].copy()\n",
    "yuna_test_prefix1_df = yuna_result_df[yuna_result_df.is_prefix_in_train == 1].copy()\n",
    "\n",
    "#定义调整函数\n",
    "def resultAdjustment(result_df, t):\n",
    "    result_df_temp = result_df.copy()\n",
    "    result_df_temp['x'] = result_df_temp.predicted_score.map(lambda x: -(math.log(((1 - x) / x), math.e)))\n",
    "    result_df_temp['adjust_result'] = result_df_temp.x.map(lambda x: 1 / (1 + math.exp(-(x + t)))) \n",
    "    print(result_df_temp['adjust_result'].mean())\n",
    "    return result_df_temp['adjust_result']\n",
    "\n",
    "print('original mean : ', yuna_test_prefix0_df['predicted_score'].mean())\n",
    "yuna_test_df_after0 = resultAdjustment(yuna_test_prefix0_df, -0.0231)\n",
    "yuna_test_df_after1 = resultAdjustment(yuna_test_prefix1_df, 0.49635)\n"
   ]
  },
  {
   "cell_type": "code",
   "execution_count": 6,
   "metadata": {},
   "outputs": [
    {
     "name": "stdout",
     "output_type": "stream",
     "text": [
      "0.44464061240463637\n",
      "0.44462622176804295\n"
     ]
    },
    {
     "name": "stderr",
     "output_type": "stream",
     "text": [
      "/home/lab-zhao.yinhu/anaconda3/lib/python3.6/site-packages/ipykernel_launcher.py:1: SettingWithCopyWarning: \n",
      "A value is trying to be set on a copy of a slice from a DataFrame\n",
      "\n",
      "See the caveats in the documentation: http://pandas.pydata.org/pandas-docs/stable/indexing.html#indexing-view-versus-copy\n",
      "  \"\"\"Entry point for launching an IPython kernel.\n",
      "/home/lab-zhao.yinhu/anaconda3/lib/python3.6/site-packages/ipykernel_launcher.py:2: SettingWithCopyWarning: \n",
      "A value is trying to be set on a copy of a slice from a DataFrame\n",
      "\n",
      "See the caveats in the documentation: http://pandas.pydata.org/pandas-docs/stable/indexing.html#indexing-view-versus-copy\n",
      "  \n"
     ]
    }
   ],
   "source": [
    "yuna_result_df['predicted_score'][yuna_result_df.is_prefix_in_train == 0] = yuna_test_df_after0\n",
    "yuna_result_df['predicted_score'][yuna_result_df.is_prefix_in_train == 1] = yuna_test_df_after1\n",
    "print(np.mean(yuna_result_df['predicted_score'][yuna_result_df.is_prefix_in_train == 0]))\n",
    "print(np.mean(yuna_result_df['predicted_score'][yuna_result_df.is_prefix_in_train == 1]))\n"
   ]
  },
  {
   "cell_type": "code",
   "execution_count": 9,
   "metadata": {},
   "outputs": [
    {
     "name": "stdout",
     "output_type": "stream",
     "text": [
      "0.44462748785625167\n"
     ]
    }
   ],
   "source": [
    "keng_result_df.rename(columns={'predicted_score':'keng_pred'}, inplace=True)\n",
    "keng_result_df['yuna_pred'] = yuna_result_df['predicted_score']\n",
    "print(np.mean(keng_result_df['yuna_pred']))\n"
   ]
  },
  {
   "cell_type": "code",
   "execution_count": 12,
   "metadata": {},
   "outputs": [
    {
     "name": "stdout",
     "output_type": "stream",
     "text": [
      "   is_prefix_in_train  keng_pred  yuna_pred  predicted_score\n",
      "0                   1   0.060153   0.060377         0.060377\n",
      "1                   1   0.702566   0.686186         0.702566\n",
      "2                   1   0.678097   0.683564         0.683564\n",
      "3                   1   0.286608   0.264104         0.286608\n",
      "4                   1   0.092973   0.094173         0.094173\n"
     ]
    }
   ],
   "source": [
    "def get_max_pred(df):\n",
    "    keng_pred = df['keng_pred']\n",
    "    yuna_pred = df['yuna_pred']\n",
    "    if keng_pred > yuna_pred:\n",
    "        return keng_pred\n",
    "    else:\n",
    "        return yuna_pred\n",
    "    \n",
    "keng_result_df['predicted_score'] = keng_result_df.apply(get_max_pred, axis=1)\n",
    "print(keng_result_df.head())\n"
   ]
  },
  {
   "cell_type": "code",
   "execution_count": 30,
   "metadata": {},
   "outputs": [
    {
     "name": "stdout",
     "output_type": "stream",
     "text": [
      "   is_prefix_in_train  keng_pred  yuna_pred  predicted_score\n",
      "0                   1   0.060153   0.060377         0.060265\n",
      "1                   1   0.702566   0.686186         0.694376\n",
      "2                   1   0.678097   0.683564         0.680831\n",
      "3                   1   0.286608   0.264104         0.275356\n",
      "4                   1   0.092973   0.094173         0.093573\n"
     ]
    }
   ],
   "source": [
    "keng_result_df['predicted_score'] = keng_result_df['keng_pred'] * 0.5 + keng_result_df['yuna_pred'] * 0.5\n",
    "print(keng_result_df.head())\n"
   ]
  },
  {
   "cell_type": "code",
   "execution_count": 17,
   "metadata": {},
   "outputs": [
    {
     "name": "stdout",
     "output_type": "stream",
     "text": [
      "0.4081\n"
     ]
    }
   ],
   "source": [
    "keng_result_df['predicted_label'] = keng_result_df['predicted_score'].map(lambda x : 1 if x > 0.519 else 0)\n",
    "print(np.mean(keng_result_df['predicted_label']))\n"
   ]
  },
  {
   "cell_type": "code",
   "execution_count": 18,
   "metadata": {
    "collapsed": true
   },
   "outputs": [],
   "source": [
    "# 导出预测结果\n",
    "def exportResult(df, fileName):\n",
    "    df.to_csv('../result/%s.csv' % fileName, header=False, index=False)\n",
    "\n",
    "exportResult(keng_result_df[['predicted_label']], 'keng_yuna_ronghe_11_5')\n"
   ]
  },
  {
   "cell_type": "code",
   "execution_count": null,
   "metadata": {
    "collapsed": true
   },
   "outputs": [],
   "source": []
  }
 ],
 "metadata": {
  "kernelspec": {
   "display_name": "Python 3",
   "language": "python",
   "name": "python3"
  },
  "language_info": {
   "codemirror_mode": {
    "name": "ipython",
    "version": 3
   },
   "file_extension": ".py",
   "mimetype": "text/x-python",
   "name": "python",
   "nbconvert_exporter": "python",
   "pygments_lexer": "ipython3",
   "version": "3.6.1"
  }
 },
 "nbformat": 4,
 "nbformat_minor": 2
}
