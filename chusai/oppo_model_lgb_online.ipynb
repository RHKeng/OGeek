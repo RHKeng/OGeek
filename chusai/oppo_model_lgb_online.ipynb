{
 "cells": [
  {
   "cell_type": "code",
   "execution_count": 1,
   "metadata": {
    "collapsed": true
   },
   "outputs": [],
   "source": [
    "import numpy as np \n",
    "import pandas as pd\n",
    "import time\n",
    "import datetime\n",
    "import gc\n",
    "from sklearn.model_selection import KFold, cross_val_score, train_test_split\n",
    "from sklearn.model_selection import StratifiedKFold\n",
    "from sklearn.metrics import roc_auc_score, log_loss\n",
    "import lightgbm as lgb\n",
    "from sklearn.preprocessing import OneHotEncoder, LabelEncoder\n",
    "from sklearn.feature_extraction.text import CountVectorizer\n",
    "from sklearn.feature_selection import chi2, SelectPercentile\n",
    "import math\n",
    "from sklearn.metrics import f1_score\n",
    "import jieba\n",
    "import jieba.posseg as psg\n",
    "from collections import Counter\n",
    "import functools\n",
    "from gensim.models import word2vec\n",
    "import Levenshtein\n"
   ]
  },
  {
   "cell_type": "code",
   "execution_count": 2,
   "metadata": {
    "collapsed": true
   },
   "outputs": [],
   "source": [
    "train_dataset = pd.read_csv('../temp/train_online_df.csv')\n",
    "test_dataset = pd.read_csv('../temp/test_online_df.csv')\n",
    "\n"
   ]
  },
  {
   "cell_type": "code",
   "execution_count": 3,
   "metadata": {
    "collapsed": true
   },
   "outputs": [],
   "source": [
    "fea = [\n",
    "    'query_prediction_number', 'query_prediction_max', 'query_prediction_min', 'query_prediction_mean', 'query_prediction_std',\n",
    "       'prefix_count', 'prefix_rate',\n",
    " 'title_count', 'title_rate', 'tag_count', 'tag_rate',\n",
    " 'query_prediction_count', 'query_prediction_rate', 'prefix_title_count',\n",
    " 'prefix_title_rate',  'prefix_tag_count', 'prefix_tag_rate',\n",
    " 'title_tag_count', 'title_tag_rate',\n",
    "    'prefix_click_number', 'title_click_number', 'query_prediction_click_number', 'prefix_tag_click_number', \n",
    "    'prefix_title_click_number', 'title_tag_click_number',\n",
    "    'is_title_in_query', 'is_prefix_in_title', \n",
    "    'title_tag_types', 'prefix_tag_types', 'tag_title_types', 'tag_prefix_types',\n",
    " 'title_prefix_types', 'prefix_title_types', 'tag_query_prediction_types', 'title_query_prediction_types',\n",
    "      'prefix_len', 'title_len',\n",
    " 'query_prediction_key_len_max', 'query_prediction_key_len_min',\n",
    " 'query_prediction_key_len_mean', 'query_prediction_key_len_std',\n",
    " 'len_title-prefix', 'len_prefix/title', 'len_mean-title', 'len_mean/title',\n",
    "    'q_t_word_match', 'q_t_jaccard', 'q_t_common_words',\n",
    " 'q_t_total_unique_words', 'q_t_wc_diff', 'q_t_wc_ratio',\n",
    " 'q_t_wc_diff_unique', 'q_t_wc_ratio_unique', 'q_t_tfidf_word_match_share',\n",
    " 'p_t_word_match', 'p_t_jaccard', 'p_t_common_words',\n",
    " 'p_t_total_unique_words', 'p_t_wc_diff', 'p_t_wc_ratio',\n",
    " 'p_t_wc_diff_unique', 'p_t_wc_ratio_unique', 'p_t_tfidf_word_match_share',\n",
    " 'p_q_word_match', 'p_q_jaccard', 'p_q_common_words',\n",
    " 'p_q_total_unique_words', 'p_q_wc_diff', 'p_q_wc_ratio',\n",
    " 'p_q_wc_diff_unique', 'p_q_wc_ratio_unique', 'p_q_tfidf_word_match_share',\n",
    "    'title_prefix_dot_similarity',\n",
    " 'title_query_dot_similarity', 'title_prefix_norm_similarity',\n",
    " 'title_query_norm_similarity', 'title_prefix_cosine_similarity',\n",
    " 'title_query_cosine_similarity',\n",
    "    'title_query_dot_similarity_max', 'title_query_dot_similarity_min',\n",
    " 'title_query_dot_similarity_mean', 'title_query_dot_similarity_std',\n",
    "    'title_query_norm_similarity_min', 'title_query_norm_similarity_mean',\n",
    " 'title_query_norm_similarity_std', 'title_prefix_cosine_similarity',\n",
    "    'title_query_cosine_similarity_max', 'title_query_cosine_similarity_min',\n",
    " 'title_query_cosine_similarity_mean', 'title_query_cosine_similarity_std',\n",
    "    'title_prefix_leven', 'title_prefix_leven_rate',\n",
    " 'title_query_leven_sum', 'title_query_leven_max', 'title_query_leven_min',\n",
    " 'title_query_leven_mean', 'title_query_leven_std',\n",
    "      ]\n",
    "\n"
   ]
  },
  {
   "cell_type": "code",
   "execution_count": 4,
   "metadata": {
    "scrolled": true
   },
   "outputs": [
    {
     "name": "stderr",
     "output_type": "stream",
     "text": [
      "/home/lab-zhao.yinhu/anaconda3/lib/python3.6/site-packages/lightgbm/engine.py:99: UserWarning: Found `num_boost_round` in params. Will use it instead of argument\n",
      "  warnings.warn(\"Found `{}` in params. Will use it instead of argument\".format(alias))\n"
     ]
    },
    {
     "name": "stdout",
     "output_type": "stream",
     "text": [
      "0.3820973024838574\n",
      "                                   importance\n",
      "prefix_title_rate                        8445\n",
      "prefix_tag_rate                          6665\n",
      "prefix_rate                              5300\n",
      "title_tag_rate                           3884\n",
      "query_prediction_rate                    2738\n",
      "title_rate                               2670\n",
      "tag_rate                                 2659\n",
      "prefix_click_number                      2436\n",
      "prefix_title_count                       1948\n",
      "prefix_title_click_number                1867\n",
      "title_tag_count                          1783\n",
      "tag_count                                1709\n",
      "prefix_title_types                       1597\n",
      "q_t_word_match                           1499\n",
      "prefix_tag_count                         1430\n",
      "p_t_tfidf_word_match_share               1359\n",
      "title_query_norm_similarity_std          1337\n",
      "prefix_tag_click_number                  1293\n",
      "query_prediction_click_number            1138\n",
      "title_tag_click_number                   1074\n",
      "title_query_norm_similarity              1047\n",
      "title_query_norm_similarity_min           998\n",
      "query_prediction_key_len_mean             994\n",
      "q_t_tfidf_word_match_share                964\n",
      "title_query_leven_min                     960\n",
      "prefix_count                              932\n",
      "tag_title_types                           925\n",
      "prefix_tag_types                          922\n",
      "title_query_dot_similarity                871\n",
      "title_query_leven_sum                     847\n",
      "...                                       ...\n",
      "title_query_cosine_similarity_std         356\n",
      "p_q_wc_ratio                              355\n",
      "q_t_wc_diff                               314\n",
      "p_q_wc_diff                               288\n",
      "p_t_total_unique_words                    253\n",
      "p_q_word_match                            217\n",
      "p_t_word_match                            210\n",
      "prefix_len                                208\n",
      "title_query_prediction_types              201\n",
      "is_title_in_query                         188\n",
      "q_t_wc_diff_unique                        182\n",
      "q_t_total_unique_words                    181\n",
      "p_t_wc_ratio                              175\n",
      "p_q_total_unique_words                    170\n",
      "p_t_wc_ratio_unique                       157\n",
      "len_title-prefix                          151\n",
      "p_q_wc_diff_unique                        149\n",
      "query_prediction_key_len_min              148\n",
      "title_prefix_leven                        136\n",
      "p_t_wc_diff                               122\n",
      "tag_prefix_types                          120\n",
      "p_q_common_words                           94\n",
      "query_prediction_number                    90\n",
      "p_t_common_words                           83\n",
      "p_t_wc_diff_unique                         82\n",
      "p_t_jaccard                                 0\n",
      "q_t_jaccard                                 0\n",
      "title_prefix_cosine_similarity              0\n",
      "tag_query_prediction_types                  0\n",
      "p_q_jaccard                                 0\n",
      "\n",
      "[97 rows x 1 columns]\n"
     ]
    },
    {
     "name": "stderr",
     "output_type": "stream",
     "text": [
      "/home/lab-zhao.yinhu/anaconda3/lib/python3.6/site-packages/ipykernel_launcher.py:18: FutureWarning: by argument to sort_index is deprecated, pls use .sort_values(by=...)\n"
     ]
    }
   ],
   "source": [
    "lgb_model = lgb.LGBMClassifier(\n",
    "    boosting_type='gbdt', num_leaves=127, max_depth=-1, n_estimators=5000, objective='binary',\n",
    "    subsample=0.8, colsample_bytree=1, subsample_freq=1,\n",
    "    learning_rate=0.01, random_state=2018, n_jobs=-1, num_boost_round=700\n",
    ")\n",
    "\n",
    "test_dataset['predicted_score'] = 0\n",
    "\n",
    "# lgb_model.fit(train_df[fea], train_df['label'], eval_set=[(train_df[fea], train_df['label']),\n",
    "#                             (valid_df[fea], valid_df['label'])], early_stopping_rounds=50, eval_metric='auc')\n",
    "lgb_model.fit(train_dataset[fea], train_dataset['label'], eval_metric='auc')\n",
    "test_pred = lgb_model.predict_proba(test_dataset[fea], num_iteration=700)[:, 1]\n",
    "print(np.mean(test_pred))\n",
    "\n",
    "fscore = lgb_model.booster_.feature_importance()\n",
    "feaNames = lgb_model.booster_.feature_name()\n",
    "scoreDf = pd.DataFrame(index=feaNames, columns=['importance'], data=fscore)\n",
    "print(scoreDf.sort_index(by=['importance'], ascending=False))\n",
    "\n"
   ]
  },
  {
   "cell_type": "code",
   "execution_count": 5,
   "metadata": {},
   "outputs": [
    {
     "name": "stdout",
     "output_type": "stream",
     "text": [
      "0.37606418001418024\n",
      "0.4446379748502132\n"
     ]
    }
   ],
   "source": [
    "test_dataset['predicted_score'] = test_pred\n",
    "\n",
    "train_prefix_set = set(train_dataset['prefix'])\n",
    "\n",
    "test_dataset['is_prefix_in_train'] = test_dataset['prefix'].map(lambda x : 1 if x in train_prefix_set else 0)\n",
    "print(np.mean(test_dataset[test_dataset.is_prefix_in_train == 1]['predicted_score']))\n",
    "print(np.mean(test_dataset[test_dataset.is_prefix_in_train == 0]['predicted_score']))\n",
    "\n"
   ]
  },
  {
   "cell_type": "code",
   "execution_count": 27,
   "metadata": {},
   "outputs": [
    {
     "name": "stdout",
     "output_type": "stream",
     "text": [
      "0.4004078857919782\n",
      "0.4010002273243919\n"
     ]
    },
    {
     "name": "stderr",
     "output_type": "stream",
     "text": [
      "/home/lab-zhao.yinhu/anaconda3/lib/python3.6/site-packages/ipykernel_launcher.py:4: SettingWithCopyWarning: \n",
      "A value is trying to be set on a copy of a slice from a DataFrame.\n",
      "Try using .loc[row_indexer,col_indexer] = value instead\n",
      "\n",
      "See the caveats in the documentation: http://pandas.pydata.org/pandas-docs/stable/indexing.html#indexing-view-versus-copy\n",
      "  after removing the cwd from sys.path.\n",
      "/home/lab-zhao.yinhu/anaconda3/lib/python3.6/site-packages/ipykernel_launcher.py:8: SettingWithCopyWarning: \n",
      "A value is trying to be set on a copy of a slice from a DataFrame.\n",
      "Try using .loc[row_indexer,col_indexer] = value instead\n",
      "\n",
      "See the caveats in the documentation: http://pandas.pydata.org/pandas-docs/stable/indexing.html#indexing-view-versus-copy\n",
      "  \n"
     ]
    }
   ],
   "source": [
    "test_df_copy = test_dataset.copy()\n",
    "\n",
    "test_df_1 = test_df_copy[test_df_copy.is_prefix_in_train == 1]\n",
    "test_df_1['predict_label'] = test_df_1['predicted_score'].map(lambda x : 1 if x > 0.395 else 0)\n",
    "print(np.mean(test_df_1['predict_label']))\n",
    "\n",
    "test_df_0 = test_df_copy[test_df_copy.is_prefix_in_train == 0]\n",
    "test_df_0['predict_label'] = test_df_0['predicted_score'].map(lambda x : 1 if x > 0.5115 else 0)\n",
    "print(np.mean(test_df_0['predict_label']))\n",
    "\n"
   ]
  },
  {
   "cell_type": "code",
   "execution_count": 28,
   "metadata": {},
   "outputs": [
    {
     "name": "stdout",
     "output_type": "stream",
     "text": [
      "0.4004078857919782\n",
      "0.4010002273243919\n",
      "0.40046\n"
     ]
    },
    {
     "name": "stderr",
     "output_type": "stream",
     "text": [
      "/home/lab-zhao.yinhu/anaconda3/lib/python3.6/site-packages/ipykernel_launcher.py:3: SettingWithCopyWarning: \n",
      "A value is trying to be set on a copy of a slice from a DataFrame\n",
      "\n",
      "See the caveats in the documentation: http://pandas.pydata.org/pandas-docs/stable/indexing.html#indexing-view-versus-copy\n",
      "  This is separate from the ipykernel package so we can avoid doing imports until\n",
      "/home/lab-zhao.yinhu/anaconda3/lib/python3.6/site-packages/ipykernel_launcher.py:4: SettingWithCopyWarning: \n",
      "A value is trying to be set on a copy of a slice from a DataFrame\n",
      "\n",
      "See the caveats in the documentation: http://pandas.pydata.org/pandas-docs/stable/indexing.html#indexing-view-versus-copy\n",
      "  after removing the cwd from sys.path.\n"
     ]
    }
   ],
   "source": [
    "test_df_copy['predict_label'] = 0\n",
    "\n",
    "test_df_copy['predict_label'][test_df_copy.is_prefix_in_train == 1] = test_df_1['predict_label']\n",
    "test_df_copy['predict_label'][test_df_copy.is_prefix_in_train == 0] = test_df_0['predict_label']\n",
    "print(np.mean(test_df_copy[test_df_copy.is_prefix_in_train == 1]['predict_label']))\n",
    "print(np.mean(test_df_copy[test_df_copy.is_prefix_in_train == 0]['predict_label']))\n",
    "print(np.mean(test_df_copy['predict_label']))\n",
    "\n"
   ]
  },
  {
   "cell_type": "code",
   "execution_count": 29,
   "metadata": {
    "collapsed": true
   },
   "outputs": [],
   "source": [
    "# 导出预测结果\n",
    "def exportResult(df, fileName):\n",
    "    df.to_csv('../result/%s.csv' % fileName, header=False, index=False)\n",
    "\n",
    "exportResult(test_df_copy[['predict_label']], 'lgb_wen_11_1')\n",
    "\n"
   ]
  },
  {
   "cell_type": "code",
   "execution_count": 35,
   "metadata": {},
   "outputs": [
    {
     "name": "stdout",
     "output_type": "stream",
     "text": [
      "0.41028\n"
     ]
    }
   ],
   "source": [
    "# test_df_copy['predict_label'] = test_df_copy['predicted_score'].map(lambda x : 1 if x > 0.394 else 0)\n",
    "# print(np.mean(test_df_copy['predict_label']))\n",
    "\n"
   ]
  },
  {
   "cell_type": "code",
   "execution_count": 36,
   "metadata": {
    "collapsed": true
   },
   "outputs": [],
   "source": [
    "# exportResult(test_df_copy[['predict_label']], 'lgb_wen_10_30')\n"
   ]
  },
  {
   "cell_type": "code",
   "execution_count": 6,
   "metadata": {},
   "outputs": [
    {
     "name": "stdout",
     "output_type": "stream",
     "text": [
      "original mean :  0.37606418001418024\n",
      "0.4446454488950832\n"
     ]
    }
   ],
   "source": [
    "test_prefix0_df = test_dataset[test_dataset.is_prefix_in_train == 1].copy()\n",
    "\n",
    "#定义调整函数\n",
    "def resultAdjustment(result_df, t):\n",
    "    result_df_temp = result_df.copy()\n",
    "    result_df_temp['x'] = result_df_temp.predicted_score.map(lambda x: -(math.log(((1 - x) / x), math.e)))\n",
    "    result_df_temp['adjust_result'] = result_df_temp.x.map(lambda x: 1 / (1 + math.exp(-(x + t)))) \n",
    "    print(result_df_temp['adjust_result'].mean())\n",
    "    return result_df_temp['adjust_result']\n",
    "\n",
    "print('original mean : ', test_prefix0_df['predicted_score'].mean())\n",
    "test_df_after = resultAdjustment(test_prefix0_df, 0.49985)\n",
    "\n",
    "\n"
   ]
  },
  {
   "cell_type": "code",
   "execution_count": 7,
   "metadata": {},
   "outputs": [
    {
     "name": "stdout",
     "output_type": "stream",
     "text": [
      "0.4446379748502132\n",
      "0.4446454488950832\n"
     ]
    },
    {
     "name": "stderr",
     "output_type": "stream",
     "text": [
      "/home/lab-zhao.yinhu/anaconda3/lib/python3.6/site-packages/ipykernel_launcher.py:1: SettingWithCopyWarning: \n",
      "A value is trying to be set on a copy of a slice from a DataFrame\n",
      "\n",
      "See the caveats in the documentation: http://pandas.pydata.org/pandas-docs/stable/indexing.html#indexing-view-versus-copy\n",
      "  \"\"\"Entry point for launching an IPython kernel.\n"
     ]
    }
   ],
   "source": [
    "test_dataset['predicted_score'][test_dataset.is_prefix_in_train == 1] = test_df_after\n",
    "print(np.mean(test_dataset['predicted_score'][test_dataset.is_prefix_in_train == 0]))\n",
    "print(np.mean(test_dataset['predicted_score'][test_dataset.is_prefix_in_train == 1]))\n"
   ]
  },
  {
   "cell_type": "code",
   "execution_count": 9,
   "metadata": {
    "collapsed": true
   },
   "outputs": [],
   "source": [
    "# # 导出预测结果\n",
    "# def exportScore(df, fileName):\n",
    "#     df.to_csv('../result/%s.csv' % fileName, header=True, index=False)\n",
    "\n",
    "# exportScore(test_dataset[['is_prefix_in_train', 'predicted_score']], 'keng_score')\n"
   ]
  },
  {
   "cell_type": "code",
   "execution_count": 11,
   "metadata": {},
   "outputs": [
    {
     "name": "stdout",
     "output_type": "stream",
     "text": [
      "0.40544\n"
     ]
    }
   ],
   "source": [
    "test_dataset['predicted_label'] = test_dataset['predicted_score'].map(lambda x : 1 if x > 0.509 else 0)\n",
    "print(np.mean(test_dataset['predicted_label']))\n"
   ]
  },
  {
   "cell_type": "code",
   "execution_count": 12,
   "metadata": {
    "collapsed": true
   },
   "outputs": [],
   "source": [
    "# 导出预测结果\n",
    "def exportResult(df, fileName):\n",
    "    df.to_csv('../result/%s.csv' % fileName, header=False, index=False)\n",
    "\n",
    "exportResult(test_dataset[['predicted_label']], 'lgb_keng_11_2')\n",
    "\n"
   ]
  },
  {
   "cell_type": "code",
   "execution_count": 23,
   "metadata": {
    "scrolled": true
   },
   "outputs": [
    {
     "name": "stderr",
     "output_type": "stream",
     "text": [
      "/home/lab-zhao.yinhu/anaconda3/lib/python3.6/site-packages/lightgbm/engine.py:99: UserWarning: Found `num_boost_round` in params. Will use it instead of argument\n",
      "  warnings.warn(\"Found `{}` in params. Will use it instead of argument\".format(alias))\n"
     ]
    },
    {
     "name": "stdout",
     "output_type": "stream",
     "text": [
      "test mean: 0.38187212610870797\n"
     ]
    },
    {
     "name": "stderr",
     "output_type": "stream",
     "text": [
      "/home/lab-zhao.yinhu/anaconda3/lib/python3.6/site-packages/lightgbm/engine.py:99: UserWarning: Found `num_boost_round` in params. Will use it instead of argument\n",
      "  warnings.warn(\"Found `{}` in params. Will use it instead of argument\".format(alias))\n"
     ]
    },
    {
     "name": "stdout",
     "output_type": "stream",
     "text": [
      "test mean: 0.3810200871274055\n"
     ]
    },
    {
     "name": "stderr",
     "output_type": "stream",
     "text": [
      "/home/lab-zhao.yinhu/anaconda3/lib/python3.6/site-packages/lightgbm/engine.py:99: UserWarning: Found `num_boost_round` in params. Will use it instead of argument\n",
      "  warnings.warn(\"Found `{}` in params. Will use it instead of argument\".format(alias))\n"
     ]
    },
    {
     "name": "stdout",
     "output_type": "stream",
     "text": [
      "test mean: 0.3818233445511438\n"
     ]
    },
    {
     "name": "stderr",
     "output_type": "stream",
     "text": [
      "/home/lab-zhao.yinhu/anaconda3/lib/python3.6/site-packages/lightgbm/engine.py:99: UserWarning: Found `num_boost_round` in params. Will use it instead of argument\n",
      "  warnings.warn(\"Found `{}` in params. Will use it instead of argument\".format(alias))\n"
     ]
    },
    {
     "name": "stdout",
     "output_type": "stream",
     "text": [
      "test mean: 0.38186220531599846\n"
     ]
    },
    {
     "name": "stderr",
     "output_type": "stream",
     "text": [
      "/home/lab-zhao.yinhu/anaconda3/lib/python3.6/site-packages/lightgbm/engine.py:99: UserWarning: Found `num_boost_round` in params. Will use it instead of argument\n",
      "  warnings.warn(\"Found `{}` in params. Will use it instead of argument\".format(alias))\n"
     ]
    },
    {
     "name": "stdout",
     "output_type": "stream",
     "text": [
      "test mean: 0.3818072348278654\n",
      "mean: 0.3816769995862319\n"
     ]
    }
   ],
   "source": [
    "# 五折模型结果\n",
    "test_dataset['predicted_score'] = 0\n",
    "\n",
    "skf = StratifiedKFold(n_splits=5, random_state=2018, shuffle=True)\n",
    "early_stopping_dict = {'0' : 670, '1' : 560, '2' : 700, '3' : 680, '4' : 680}\n",
    "for index, (train_index, test_index) in enumerate(skf.split(train_dataset, train_dataset['label'])):\n",
    "    num_boost_round = early_stopping_dict[str(index)]\n",
    "    lgb_model = lgb.LGBMClassifier(\n",
    "        boosting_type='gbdt', num_leaves=127, max_depth=-1, n_estimators=5000, objective='binary',\n",
    "        subsample=0.8, colsample_bytree=1, subsample_freq=1,\n",
    "        learning_rate=0.01, random_state=2018, n_jobs=-1, num_boost_round=num_boost_round\n",
    "    )\n",
    "    lgb_model.fit(train_dataset[fea].iloc[train_index], train_dataset['label'][train_index], eval_metric='auc')\n",
    "    test_pred = lgb_model.predict_proba(test_dataset[fea], num_iteration=num_boost_round)[:, 1]\n",
    "    \n",
    "    print('test mean:', test_pred.mean())\n",
    "    test_dataset['predicted_score'] = test_dataset['predicted_score'] + test_pred\n",
    "\n",
    "test_dataset['predicted_score'] = test_dataset['predicted_score'] / 5\n",
    "mean = test_dataset['predicted_score'].mean()\n",
    "print('mean:', mean)\n",
    "\n"
   ]
  },
  {
   "cell_type": "code",
   "execution_count": 25,
   "metadata": {},
   "outputs": [
    {
     "name": "stdout",
     "output_type": "stream",
     "text": [
      "4399\n",
      "0.3757038099658089\n",
      "0.44359639487622804\n"
     ]
    }
   ],
   "source": [
    "print(len(test_dataset[test_dataset.is_prefix_in_train == 0]))\n",
    "print(np.mean(test_dataset[test_dataset.is_prefix_in_train == 1]['predicted_score']))\n",
    "print(np.mean(test_dataset[test_dataset.is_prefix_in_train == 0]['predicted_score']))\n",
    "\n"
   ]
  },
  {
   "cell_type": "code",
   "execution_count": 29,
   "metadata": {},
   "outputs": [
    {
     "name": "stdout",
     "output_type": "stream",
     "text": [
      "original mean :  0.3757038099658089\n",
      "0.44352972613919045\n"
     ]
    }
   ],
   "source": [
    "test_prefix0_df = test_dataset[test_dataset.is_prefix_in_train == 1].copy()\n",
    "\n",
    "#定义调整函数\n",
    "def resultAdjustment(result_df, t):\n",
    "    result_df_temp = result_df.copy()\n",
    "    result_df_temp['x'] = result_df_temp.predicted_score.map(lambda x: -(math.log(((1 - x) / x), math.e)))\n",
    "    result_df_temp['adjust_result'] = result_df_temp.x.map(lambda x: 1 / (1 + math.exp(-(x + t)))) \n",
    "    print(result_df_temp['adjust_result'].mean())\n",
    "    return result_df_temp['adjust_result']\n",
    "\n",
    "print('original mean : ', test_prefix0_df['predicted_score'].mean())\n",
    "test_df_after = resultAdjustment(test_prefix0_df, 0.49285)\n",
    "\n"
   ]
  },
  {
   "cell_type": "code",
   "execution_count": 30,
   "metadata": {},
   "outputs": [
    {
     "name": "stdout",
     "output_type": "stream",
     "text": [
      "0.44359639487622804\n",
      "0.44352972613919045\n"
     ]
    },
    {
     "name": "stderr",
     "output_type": "stream",
     "text": [
      "/home/lab-zhao.yinhu/anaconda3/lib/python3.6/site-packages/ipykernel_launcher.py:1: SettingWithCopyWarning: \n",
      "A value is trying to be set on a copy of a slice from a DataFrame\n",
      "\n",
      "See the caveats in the documentation: http://pandas.pydata.org/pandas-docs/stable/indexing.html#indexing-view-versus-copy\n",
      "  \"\"\"Entry point for launching an IPython kernel.\n"
     ]
    }
   ],
   "source": [
    "test_dataset['predicted_score'][test_dataset.is_prefix_in_train == 1] = test_df_after\n",
    "print(np.mean(test_dataset['predicted_score'][test_dataset.is_prefix_in_train == 0]))\n",
    "print(np.mean(test_dataset['predicted_score'][test_dataset.is_prefix_in_train == 1]))\n"
   ]
  },
  {
   "cell_type": "code",
   "execution_count": 31,
   "metadata": {},
   "outputs": [
    {
     "name": "stdout",
     "output_type": "stream",
     "text": [
      "0.40992\n"
     ]
    }
   ],
   "source": [
    "test_dataset['predicted_label'] = test_dataset['predicted_score'].map(lambda x : 1 if x > 0.5 else 0)\n",
    "print(np.mean(test_dataset['predicted_label']))\n",
    "\n"
   ]
  },
  {
   "cell_type": "code",
   "execution_count": 32,
   "metadata": {
    "collapsed": true
   },
   "outputs": [],
   "source": [
    "exportResult(test_dataset[['predicted_label']], 'lgb_yi_10_31')\n"
   ]
  },
  {
   "cell_type": "code",
   "execution_count": null,
   "metadata": {
    "collapsed": true
   },
   "outputs": [],
   "source": []
  }
 ],
 "metadata": {
  "kernelspec": {
   "display_name": "Python 3",
   "language": "python",
   "name": "python3"
  },
  "language_info": {
   "codemirror_mode": {
    "name": "ipython",
    "version": 3
   },
   "file_extension": ".py",
   "mimetype": "text/x-python",
   "name": "python",
   "nbconvert_exporter": "python",
   "pygments_lexer": "ipython3",
   "version": "3.6.1"
  }
 },
 "nbformat": 4,
 "nbformat_minor": 2
}
