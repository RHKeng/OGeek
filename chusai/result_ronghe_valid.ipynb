{
 "cells": [
  {
   "cell_type": "code",
   "execution_count": 1,
   "metadata": {
    "collapsed": true
   },
   "outputs": [],
   "source": [
    "import numpy as np \n",
    "import pandas as pd\n",
    "import time\n",
    "import datetime\n",
    "import gc\n",
    "from sklearn.model_selection import KFold, cross_val_score, train_test_split\n",
    "from sklearn.model_selection import StratifiedKFold\n",
    "from sklearn.metrics import roc_auc_score, log_loss\n",
    "import lightgbm as lgb\n",
    "from sklearn.preprocessing import OneHotEncoder, LabelEncoder\n",
    "from sklearn.feature_extraction.text import CountVectorizer\n",
    "from sklearn.feature_selection import chi2, SelectPercentile\n",
    "import math\n",
    "from sklearn.metrics import f1_score\n",
    "import jieba\n",
    "import jieba.posseg as psg\n",
    "from collections import Counter\n",
    "import functools\n",
    "from gensim.models import word2vec\n",
    "import Levenshtein\n"
   ]
  },
  {
   "cell_type": "code",
   "execution_count": 2,
   "metadata": {
    "collapsed": true
   },
   "outputs": [],
   "source": [
    "keng_valid_26 = pd.read_csv('../result/valid_26_pred.csv')\n",
    "keng_valid_29 = pd.read_csv('../result/valid_29_pred.csv')\n",
    "keng_testA = pd.read_csv('../result/keng_score.csv')\n",
    "\n",
    "yuna_valid_26 = pd.read_csv('../result/lgb1_testB_pred2.csv')\n",
    "yuna_valid_29 = pd.read_csv('../result/lgb1_testB_valid.csv')\n",
    "yuna_testA = pd.read_csv('../result/lgb1_testB_pred.csv')\n"
   ]
  },
  {
   "cell_type": "code",
   "execution_count": 22,
   "metadata": {},
   "outputs": [],
   "source": [
    "valid_26_df = keng_valid_26.copy()\n",
    "valid_26_df.rename(columns={'predicted_score':'keng_pred'}, inplace=True)\n",
    "yuna_valid_26 = yuna_valid_26[yuna_valid_26['is_valid26'] == 1]\n",
    "yuna_valid_26.reset_index(inplace=True)\n",
    "valid_26_df['yuna_pred'] = yuna_valid_26['pred']\n",
    "\n",
    "valid_29_df = keng_valid_29.copy()\n",
    "valid_29_df.rename(columns={'predicted_score':'keng_pred'}, inplace=True)\n",
    "valid_29_df['yuna_pred'] = yuna_valid_29['pred']\n",
    "\n",
    "testA_df = keng_testA.copy()\n",
    "testA_df.rename(columns={'predicted_score':'keng_pred'}, inplace=True)\n",
    "testA_df['yuna_pred'] = yuna_testA['pred']\n"
   ]
  },
  {
   "cell_type": "code",
   "execution_count": 73,
   "metadata": {},
   "outputs": [
    {
     "name": "stdout",
     "output_type": "stream",
     "text": [
      "0.44875104378627195\n",
      "0.3737914647546385\n",
      "original mean :  0.44875104378627195\n",
      "0.37078865606571043\n",
      "0.3707624986956756\n"
     ]
    }
   ],
   "source": [
    "yuna_test_prefix0_df = testA_df[testA_df.is_prefix_in_train == 0].copy()\n",
    "yuna_test_prefix1_df = testA_df[testA_df.is_prefix_in_train == 1].copy()\n",
    "print(np.mean(yuna_test_prefix0_df['yuna_pred']))\n",
    "print(np.mean(yuna_test_prefix1_df['yuna_pred']))\n",
    "\n",
    "#定义调整函数\n",
    "def resultAdjustment(result_df, t):\n",
    "    result_df_temp = result_df.copy()\n",
    "    result_df_temp['x'] = result_df_temp.yuna_pred.map(lambda x: -(math.log(((1 - x) / x), math.e)))\n",
    "    result_df_temp['adjust_result'] = result_df_temp.x.map(lambda x: 1 / (1 + math.exp(-(x + t)))) \n",
    "    print(result_df_temp['adjust_result'].mean())\n",
    "    return result_df_temp['adjust_result']\n",
    "\n",
    "print('original mean : ', yuna_test_prefix0_df['yuna_pred'].mean())\n",
    "yuna_test_df_after0 = resultAdjustment(yuna_test_prefix0_df, -0.3871)\n",
    "yuna_test_df_after1 = resultAdjustment(yuna_test_prefix1_df, -0.02235)\n"
   ]
  },
  {
   "cell_type": "code",
   "execution_count": 74,
   "metadata": {},
   "outputs": [
    {
     "name": "stderr",
     "output_type": "stream",
     "text": [
      "/home/lab-zhao.yinhu/anaconda3/lib/python3.6/site-packages/ipykernel_launcher.py:1: SettingWithCopyWarning: \n",
      "A value is trying to be set on a copy of a slice from a DataFrame.\n",
      "Try using .loc[row_indexer,col_indexer] = value instead\n",
      "\n",
      "See the caveats in the documentation: http://pandas.pydata.org/pandas-docs/stable/indexing.html#indexing-view-versus-copy\n",
      "  \"\"\"Entry point for launching an IPython kernel.\n",
      "/home/lab-zhao.yinhu/anaconda3/lib/python3.6/site-packages/ipykernel_launcher.py:2: SettingWithCopyWarning: \n",
      "A value is trying to be set on a copy of a slice from a DataFrame.\n",
      "Try using .loc[row_indexer,col_indexer] = value instead\n",
      "\n",
      "See the caveats in the documentation: http://pandas.pydata.org/pandas-docs/stable/indexing.html#indexing-view-versus-copy\n",
      "  \n"
     ]
    }
   ],
   "source": [
    "testA_df[testA_df.is_prefix_in_train == 0]['yuna_pred'] = yuna_test_df_after0\n",
    "testA_df[testA_df.is_prefix_in_train == 1]['yuna_pred'] = yuna_test_df_after1\n"
   ]
  },
  {
   "cell_type": "code",
   "execution_count": 76,
   "metadata": {},
   "outputs": [],
   "source": [
    "valid_26 = pd.read_table('../data/oppo_round1_vali_20180926.txt', names=['prefix', 'query_prediction', 'title', 'tag', 'label'], header=None, quoting=3)\n",
    "valid_29 = pd.read_table('../data/oppo_round1_vali_20180929.txt', names=['prefix', 'query_prediction', 'title', 'tag', 'label'], header=None, quoting=3)\n",
    "valid_26_df['label'] = valid_26['label']\n",
    "valid_29_df['label'] = valid_29['label']\n"
   ]
  },
  {
   "cell_type": "code",
   "execution_count": 77,
   "metadata": {
    "collapsed": true
   },
   "outputs": [],
   "source": [
    "valid_26_df['predicted_score'] = valid_26_df['keng_pred'] *0.5 + valid_26_df['yuna_pred'] * 0.5\n",
    "valid_29_df['predicted_score'] = valid_29_df['keng_pred'] *0.5 + valid_29_df['yuna_pred'] * 0.5\n"
   ]
  },
  {
   "cell_type": "code",
   "execution_count": 78,
   "metadata": {
    "collapsed": true
   },
   "outputs": [],
   "source": [
    "def getPredLabel(predArr, threshold=None, tops=None):\n",
    "    '''\n",
    "    根据阈值返回分类预测结果\n",
    "    '''\n",
    "    if tops is not None :\n",
    "        temp = np.sort(np.array(predArr))\n",
    "        if tops < 1:\n",
    "            threshold = temp[-1*round(len(temp)*tops)]\n",
    "        else:\n",
    "            threshold = temp[-round(tops)]\n",
    "    if threshold is None:\n",
    "        print('[Error] could not get threshold value.')\n",
    "        exit()\n",
    "    return (predArr>=threshold).astype(int)\n",
    "\n",
    "def findF1Threshold(predictList, labelList):\n",
    "    '''\n",
    "    寻找F1最佳阈值\n",
    "    '''\n",
    "    tempDf = pd.DataFrame({'predict':predictList, 'label':labelList})\n",
    "    trueNum = len(tempDf[tempDf.label==1])\n",
    "    thrList = np.unique(tempDf['predict'])\n",
    "    f1List = []\n",
    "    for thr in thrList:\n",
    "        tempDf['temp'] = getPredLabel(tempDf['predict'], thr)\n",
    "        TP = len(tempDf[(tempDf.label==1)&(tempDf.temp==1)])\n",
    "        if TP==0:\n",
    "            break\n",
    "        positiveNum = len(tempDf[tempDf.temp==1])\n",
    "        precise = TP / positiveNum\n",
    "        recall = TP / trueNum\n",
    "        f1 = 2 * precise * recall / (precise + recall)\n",
    "        f1List.append(f1)\n",
    "    f1Df = pd.DataFrame({'thr':thrList[:len(f1List)], 'f1':f1List}).sort_values(by=['f1','thr'], ascending=[False,True])\n",
    "    bestThs = thrList[f1List.index(max(f1List))]\n",
    "    averThr = f1Df.head(5).sort_values(by=['thr']).head(4)['thr'].mean()    # 取前5，去掉最大阈值后取平均\n",
    "    # print('tops 5 thr:\\n', f1Df.head(5),'aver thr:',averThr)\n",
    "    return averThr\n",
    "\n",
    "\n"
   ]
  },
  {
   "cell_type": "code",
   "execution_count": 79,
   "metadata": {
    "collapsed": true
   },
   "outputs": [],
   "source": [
    "valid_29_prefix1_newthr = findF1Threshold(valid_29_df[valid_29_df.is_prefix_in_train == 1]['predicted_score'], valid_29_df[valid_29_df.is_prefix_in_train == 1]['label'])\n",
    "\n"
   ]
  },
  {
   "cell_type": "code",
   "execution_count": 81,
   "metadata": {
    "collapsed": true
   },
   "outputs": [],
   "source": [
    "valid_29_prefix0_newthr = findF1Threshold(valid_29_df[valid_29_df.is_prefix_in_train == 0]['predicted_score'], valid_29_df[valid_29_df.is_prefix_in_train == 0]['label'])\n",
    "\n"
   ]
  },
  {
   "cell_type": "code",
   "execution_count": 84,
   "metadata": {},
   "outputs": [],
   "source": [
    "testA_df['predicted_score'] = testA_df['keng_pred'] *0.5 + testA_df['yuna_pred'] * 0.5\n",
    "testA_df['label'] = 0\n",
    "testA_df.loc[testA_df.is_prefix_in_train == 0, 'label'] = getPredLabel(testA_df.loc[testA_df.is_prefix_in_train == 0, 'predicted_score'], valid_29_prefix0_newthr)\n",
    "testA_df.loc[testA_df.is_prefix_in_train == 1, 'label'] = getPredLabel(testA_df.loc[testA_df.is_prefix_in_train == 1, 'predicted_score'], valid_29_prefix1_newthr)\n"
   ]
  },
  {
   "cell_type": "code",
   "execution_count": 85,
   "metadata": {
    "collapsed": true
   },
   "outputs": [],
   "source": [
    "# 导出预测结果\n",
    "def exportResult(df, fileName):\n",
    "    df.to_csv('../result/%s.csv' % fileName, header=False, index=False)\n",
    "\n",
    "exportResult(testA_df[['label']], 'ronghe_11_6')\n"
   ]
  },
  {
   "cell_type": "code",
   "execution_count": 86,
   "metadata": {},
   "outputs": [
    {
     "name": "stdout",
     "output_type": "stream",
     "text": [
      "   is_prefix_in_train  keng_pred  yuna_pred  label  predicted_score\n",
      "0                   1   0.060153   0.036359      0         0.048256\n",
      "1                   1   0.702566   0.572474      1         0.637520\n",
      "2                   1   0.678097   0.564478      1         0.621288\n",
      "3                   1   0.286608   0.185611      0         0.236110\n",
      "4                   1   0.092973   0.061782      0         0.077378\n"
     ]
    }
   ],
   "source": [
    "print(testA_df.head())\n",
    "\n",
    "\n"
   ]
  },
  {
   "cell_type": "code",
   "execution_count": 88,
   "metadata": {
    "scrolled": true
   },
   "outputs": [
    {
     "name": "stdout",
     "output_type": "stream",
     "text": [
      "is_prefix_in_train               0             1\n",
      "keng_pred       count  4399.000000  45601.000000\n",
      "                mean      0.444638      0.444645\n",
      "                std       0.204084      0.325480\n",
      "                min       0.022724      0.009959\n",
      "                25%       0.271123      0.142847\n",
      "                50%       0.414194      0.354251\n",
      "                75%       0.630357      0.783005\n",
      "                max       0.881357      0.993897\n",
      "yuna_pred       count  4399.000000  45601.000000\n",
      "                mean      0.448751      0.373791\n",
      "                std       0.204494      0.313598\n",
      "                min       0.039272      0.010500\n",
      "                25%       0.274776      0.096333\n",
      "                50%       0.437667      0.249850\n",
      "                75%       0.641158      0.675860\n",
      "                max       0.864953      0.982737\n",
      "label           count  4399.000000  45601.000000\n",
      "                mean      0.463287      0.460450\n",
      "                std       0.498707      0.498439\n",
      "                min       0.000000      0.000000\n",
      "                25%       0.000000      0.000000\n",
      "                50%       0.000000      0.000000\n",
      "                75%       1.000000      1.000000\n",
      "                max       1.000000      1.000000\n",
      "predicted_score count  4399.000000  45601.000000\n",
      "                mean      0.446695      0.409218\n",
      "                std       0.201616      0.318626\n",
      "                min       0.033444      0.010230\n",
      "                25%       0.276202      0.119662\n",
      "                50%       0.420519      0.303424\n",
      "                75%       0.637485      0.729512\n",
      "                max       0.873155      0.988188\n"
     ]
    }
   ],
   "source": [
    "print(testA_df.groupby('is_prefix_in_train')[['keng_pred','yuna_pred','label','predicted_score']].describe().T)"
   ]
  }
 ],
 "metadata": {
  "kernelspec": {
   "display_name": "Python 3",
   "language": "python",
   "name": "python3"
  },
  "language_info": {
   "codemirror_mode": {
    "name": "ipython",
    "version": 3
   },
   "file_extension": ".py",
   "mimetype": "text/x-python",
   "name": "python",
   "nbconvert_exporter": "python",
   "pygments_lexer": "ipython3",
   "version": "3.6.1"
  }
 },
 "nbformat": 4,
 "nbformat_minor": 2
}
