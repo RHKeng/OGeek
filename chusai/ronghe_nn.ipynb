{
 "cells": [
  {
   "cell_type": "code",
   "execution_count": 1,
   "metadata": {
    "collapsed": true
   },
   "outputs": [],
   "source": [
    "import numpy as np \n",
    "import pandas as pd\n",
    "import time\n",
    "import datetime\n",
    "import gc\n",
    "from sklearn.model_selection import KFold, cross_val_score, train_test_split\n",
    "from sklearn.model_selection import StratifiedKFold\n",
    "from sklearn.metrics import roc_auc_score, log_loss\n",
    "import lightgbm as lgb\n",
    "from sklearn.preprocessing import OneHotEncoder, LabelEncoder\n",
    "from sklearn.feature_extraction.text import CountVectorizer\n",
    "from sklearn.feature_selection import chi2, SelectPercentile\n",
    "import math\n",
    "from sklearn.metrics import f1_score\n",
    "import jieba\n",
    "import jieba.posseg as psg\n",
    "from collections import Counter\n",
    "import functools\n",
    "from gensim.models import word2vec\n",
    "import Levenshtein\n"
   ]
  },
  {
   "cell_type": "code",
   "execution_count": 14,
   "metadata": {
    "collapsed": true
   },
   "outputs": [],
   "source": [
    "keng_valid_29 = pd.read_csv('../result/valid_29_pred.csv')\n",
    "nn_valid_26 = pd.read_csv('../result/submission4.csv')\n"
   ]
  },
  {
   "cell_type": "code",
   "execution_count": 15,
   "metadata": {
    "collapsed": true
   },
   "outputs": [],
   "source": [
    "valid_26_df = keng_valid_29.copy()\n",
    "valid_26_df.rename(columns={'predicted_score':'keng_pred'}, inplace=True)\n",
    "valid_26_df['nn_pred'] = nn_valid_26['score'][:len(valid_26_df)]\n",
    "\n"
   ]
  },
  {
   "cell_type": "code",
   "execution_count": 16,
   "metadata": {},
   "outputs": [
    {
     "name": "stdout",
     "output_type": "stream",
     "text": [
      "100000\n",
      "0.3729864797753706\n",
      "0.38116897249021026\n"
     ]
    }
   ],
   "source": [
    "print(len(nn_valid_26))\n",
    "print(np.mean(valid_26_df[valid_26_df.is_prefix_in_train == 1]['nn_pred']))\n",
    "print(np.mean(valid_26_df[valid_26_df.is_prefix_in_train == 0]['nn_pred']))\n"
   ]
  },
  {
   "cell_type": "code",
   "execution_count": 23,
   "metadata": {},
   "outputs": [
    {
     "name": "stdout",
     "output_type": "stream",
     "text": [
      "0.37251355671061986\n"
     ]
    }
   ],
   "source": [
    "#定义调整函数\n",
    "def resultAdjustment(result_df, t):\n",
    "    result_df_temp = result_df.copy()\n",
    "    result_df_temp['x'] = result_df_temp.keng_pred.map(lambda x: -(math.log(((1 - x) / x), math.e)))\n",
    "    result_df_temp['adjust_result'] = result_df_temp.x.map(lambda x: 1 / (1 + math.exp(-(x + t)))) \n",
    "    print(result_df_temp['adjust_result'].mean())\n",
    "    return result_df_temp['adjust_result']\n",
    "\n",
    "keng_valid_df_after = resultAdjustment(valid_26_df, -0.1121)\n"
   ]
  },
  {
   "cell_type": "code",
   "execution_count": 24,
   "metadata": {
    "collapsed": true
   },
   "outputs": [],
   "source": [
    "valid_26_df['keng_pred'] = keng_valid_df_after\n"
   ]
  },
  {
   "cell_type": "code",
   "execution_count": 28,
   "metadata": {},
   "outputs": [
    {
     "name": "stdout",
     "output_type": "stream",
     "text": [
      "0.3724193617292467\n"
     ]
    }
   ],
   "source": [
    "#定义调整函数\n",
    "def resultAdjustment(result_df, t):\n",
    "    result_df_temp = result_df.copy()\n",
    "    result_df_temp['x'] = result_df_temp.nn_pred.map(lambda x: -(math.log(((1 - x) / x), math.e)))\n",
    "    result_df_temp['adjust_result'] = result_df_temp.x.map(lambda x: 1 / (1 + math.exp(-(x + t)))) \n",
    "    print(result_df_temp['adjust_result'].mean())\n",
    "    return result_df_temp['adjust_result']\n",
    "\n",
    "nn_valid_df_after0 = resultAdjustment(valid_26_df[valid_26_df.is_prefix_in_train == 0], -0.0571)\n",
    "\n"
   ]
  },
  {
   "cell_type": "code",
   "execution_count": 29,
   "metadata": {
    "collapsed": true
   },
   "outputs": [],
   "source": [
    "valid_26_df.loc[valid_26_df.is_prefix_in_train == 0, 'nn_pred'] = nn_valid_df_after0\n"
   ]
  },
  {
   "cell_type": "code",
   "execution_count": 30,
   "metadata": {},
   "outputs": [
    {
     "name": "stdout",
     "output_type": "stream",
     "text": [
      "0.3729864797753706\n",
      "0.3724193617292467\n"
     ]
    }
   ],
   "source": [
    "print(np.mean(valid_26_df[valid_26_df.is_prefix_in_train == 1]['nn_pred']))\n",
    "print(np.mean(valid_26_df[valid_26_df.is_prefix_in_train == 0]['nn_pred']))\n"
   ]
  },
  {
   "cell_type": "code",
   "execution_count": 37,
   "metadata": {
    "collapsed": true
   },
   "outputs": [],
   "source": [
    "valid_26 = pd.read_table('../data/oppo_round1_vali_20180929.txt', names=['prefix', 'query_prediction', 'title', 'tag', 'label'], header=None, quoting=3)\n",
    "valid_26_df['label'] = valid_26['label']\n"
   ]
  },
  {
   "cell_type": "code",
   "execution_count": 38,
   "metadata": {},
   "outputs": [
    {
     "name": "stdout",
     "output_type": "stream",
     "text": [
      "{'0.35': 0.7388241070332638, '0.352': 0.738685556867375, '0.354': 0.7391947898164595, '0.356': 0.7388273680047459, '0.358': 0.738801168143345, '0.36': 0.7390150105445975, '0.362': 0.7394674085850558, '0.364': 0.7395991534918461, '0.366': 0.7391315192178186, '0.368': 0.7395453409942543, '0.37': 0.73906191369606, '0.372': 0.7389461540390742, '0.374': 0.7391074795725959, '0.376': 0.7397536337758521, '0.378': 0.7395954194622408, '0.38': 0.7394949494949495, '0.382': 0.7395382942678702, '0.384': 0.7392978367698466, '0.386': 0.739692682184695, '0.388': 0.74006908462867, '0.39': 0.7401622872841046, '0.392': 0.7400254777070063, '0.394': 0.7400581959262853, '0.396': 0.739895630819605, '0.398': 0.7398861713582525, '0.4': 0.7395670150748607, '0.402': 0.7400490132851799, '0.404': 0.7400459912668268, '0.406': 0.7401366884125505, '0.408': 0.7405659153979821, '0.41': 0.7403271877434433, '0.412': 0.7405036944531169, '0.414': 0.7403064415259537, '0.416': 0.7405183889744459, '0.418': 0.7402505688802865, '0.42': 0.740546218487395, '0.422': 0.7398862199747156, '0.424': 0.7404140699271152, '0.426': 0.7403291527755729, '0.428': 0.740173747218985, '0.43': 0.7400514329648188, '0.432': 0.7401742086254514, '0.434': 0.7398622596856967, '0.436': 0.7398376148010116, '0.438': 0.7392915211770664, '0.44': 0.7387613454351308, '0.442': 0.7381652848355175, '0.444': 0.737862517740942, '0.446': 0.7377880307948175, '0.448': 0.737871380218127, '0.45': 0.7377476678226739, '0.452': 0.7376043068640645, '0.454': 0.7372762562001294, '0.456': 0.7364492048036353, '0.458': 0.7363631439250312, '0.46': 0.7360312466095258, '0.462': 0.7354379482721148, '0.464': 0.735258102261286, '0.466': 0.7351698956374834, '0.468': 0.7344833233255091, '0.47': 0.7330651120781673, '0.472': 0.7326461234784516, '0.474': 0.7324917672886937, '0.476': 0.732377341904291, '0.478': 0.7318589426197942, '0.48': 0.7311709427618707, '0.482': 0.7287765207048214, '0.484': 0.7282346749397525, '0.486': 0.7284403669724772, '0.488': 0.7281437125748503, '0.49': 0.7277952953651253, '0.492': 0.7276740806974404, '0.494': 0.7272116649408077, '0.496': 0.7267122519896871, '0.498': 0.7264209167929081}\n"
     ]
    }
   ],
   "source": [
    "yuzhi_dict = {}\n",
    "# 定义搜索方法获取最佳F1对应的阈值\n",
    "for yuzhi in range(350, 500, 2):\n",
    "    real_yuzhi = yuzhi / 1000\n",
    "    valid_26_df['predicted_label'] = valid_26_df['keng_pred'].map(lambda x : 1 if x > real_yuzhi else 0)\n",
    "    f1 = f1_score(valid_26_df['label'], valid_26_df['predicted_label'])\n",
    "    yuzhi_dict[str(real_yuzhi)] = f1\n",
    "print(yuzhi_dict)\n"
   ]
  },
  {
   "cell_type": "code",
   "execution_count": 43,
   "metadata": {
    "collapsed": true
   },
   "outputs": [],
   "source": [
    "valid_26_df['predicted_score'] = valid_26_df['keng_pred'] * 0.9 + valid_26_df['nn_pred'] *0.1\n"
   ]
  },
  {
   "cell_type": "code",
   "execution_count": 44,
   "metadata": {},
   "outputs": [
    {
     "name": "stdout",
     "output_type": "stream",
     "text": [
      "{'0.35': 0.7370967741935482, '0.352': 0.7371515359365048, '0.354': 0.7377725397760754, '0.356': 0.7378339812035626, '0.358': 0.738448641451748, '0.36': 0.7383771225190935, '0.362': 0.738280959809821, '0.364': 0.738770040204497, '0.366': 0.7393996667578523, '0.368': 0.739588785046729, '0.37': 0.7394420718763267, '0.372': 0.7397897897897897, '0.374': 0.7397658619738787, '0.376': 0.7401135621325562, '0.378': 0.7399813606710158, '0.38': 0.7398899379007421, '0.382': 0.7401766060268705, '0.384': 0.7402916930881421, '0.386': 0.740554284261378, '0.388': 0.7403914772148028, '0.39': 0.7402789842113331, '0.392': 0.740427927927928, '0.394': 0.7406438373733487, '0.396': 0.7405693126591066, '0.398': 0.7399943303352833, '0.4': 0.7400196250581005, '0.402': 0.7399265504577666, '0.404': 0.7395371738060069, '0.406': 0.7395154379495701, '0.408': 0.7391700273188501, '0.41': 0.7388946819603756, '0.412': 0.738865815113758, '0.414': 0.7384840871021776, '0.416': 0.7385034869697447, '0.418': 0.7382165939782461, '0.42': 0.7378308688101879, '0.422': 0.7375497614088741, '0.424': 0.737448472677307, '0.426': 0.7371820323460122, '0.428': 0.7365992096119671, '0.43': 0.7361819727891157, '0.432': 0.7357656458055926, '0.434': 0.7355248412401942, '0.436': 0.7352068237118639, '0.438': 0.7347922749310262, '0.44': 0.7342982197040895, '0.442': 0.73404169468729, '0.444': 0.7338850996144825, '0.446': 0.733581968542241, '0.448': 0.7333712336554861, '0.45': 0.7329445273294453, '0.452': 0.7332916587394341, '0.454': 0.7331135391406229, '0.456': 0.7324543444435346, '0.458': 0.7318527432853783, '0.46': 0.7312982956102374, '0.462': 0.7312548029421452, '0.464': 0.7311319457809793, '0.466': 0.7305880732681448, '0.468': 0.7300676141851801, '0.47': 0.7295907079646018, '0.472': 0.7290460225540994, '0.474': 0.7288775396913512, '0.476': 0.728061877469256, '0.478': 0.7277540896803502, '0.48': 0.7277652118064282, '0.482': 0.7273083379966424, '0.484': 0.7267935742521516, '0.486': 0.7263382575970341, '0.488': 0.725783756402319, '0.49': 0.7253447643757578, '0.492': 0.7247916372368978, '0.494': 0.7240656851642129, '0.496': 0.7235539417321494, '0.498': 0.7229504933602525}\n"
     ]
    }
   ],
   "source": [
    "yuzhi_dict = {}\n",
    "# 定义搜索方法获取最佳F1对应的阈值\n",
    "for yuzhi in range(350, 500, 2):\n",
    "    real_yuzhi = yuzhi / 1000\n",
    "    valid_26_df['predicted_label'] = valid_26_df['predicted_score'].map(lambda x : 1 if x > real_yuzhi else 0)\n",
    "    f1 = f1_score(valid_26_df['label'], valid_26_df['predicted_label'])\n",
    "    yuzhi_dict[str(real_yuzhi)] = f1\n",
    "print(yuzhi_dict)\n"
   ]
  },
  {
   "cell_type": "code",
   "execution_count": null,
   "metadata": {
    "collapsed": true
   },
   "outputs": [],
   "source": []
  }
 ],
 "metadata": {
  "kernelspec": {
   "display_name": "Python 3",
   "language": "python",
   "name": "python3"
  },
  "language_info": {
   "codemirror_mode": {
    "name": "ipython",
    "version": 3
   },
   "file_extension": ".py",
   "mimetype": "text/x-python",
   "name": "python",
   "nbconvert_exporter": "python",
   "pygments_lexer": "ipython3",
   "version": "3.6.1"
  }
 },
 "nbformat": 4,
 "nbformat_minor": 2
}
