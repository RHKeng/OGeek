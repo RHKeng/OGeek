{
 "cells": [
  {
   "cell_type": "code",
   "execution_count": 1,
   "metadata": {},
   "outputs": [],
   "source": [
    "import numpy as np\n",
    "import pandas as pd\n",
    "from sklearn.metrics import f1_score"
   ]
  },
  {
   "cell_type": "code",
   "execution_count": 2,
   "metadata": {},
   "outputs": [],
   "source": [
    "valid_result = pd.read_csv('../../yuna/result/xkl_b_vali.csv')\n",
    "train_df = pd.read_table('../../data/oppo_data_ronud2_20181107/data_train.txt', names=['prefix', 'query_prediction', 'title', 'tag', 'label'], header=None, na_values='', keep_default_na=False, encoding='utf-8', quoting=3)\n",
    "valid_df = pd.read_table('../../data/oppo_data_ronud2_20181107/data_vali.txt', names=['prefix', 'query_prediction', 'title', 'tag', 'label'], header=None, na_values='', keep_default_na=False, encoding='utf-8', quoting=3)\n",
    "test_df = pd.read_table('../../data/oppo_data_ronud2_20181107/data_testB.txt', names=['prefix', 'query_prediction', 'title', 'tag', 'label'], header=None, na_values='', keep_default_na=False, encoding='utf-8', quoting=3)\n",
    "    \n"
   ]
  },
  {
   "cell_type": "code",
   "execution_count": 3,
   "metadata": {},
   "outputs": [],
   "source": [
    "temp_df = pd.concat([train_df, valid_df, test_df])\n",
    "temp_df_pivot_table = pd.pivot_table(temp_df, index='prefix', values='title', aggfunc=len)\n",
    "temp_df_pivot_table.reset_index(inplace=True)\n",
    "temp_df_pivot_table.rename(columns={'title':'prefix_number'}, inplace=True)\n"
   ]
  },
  {
   "cell_type": "code",
   "execution_count": 4,
   "metadata": {},
   "outputs": [],
   "source": [
    "valid_df['pred'] = valid_result['pred']\n",
    "valid_df = pd.merge(valid_df, temp_df_pivot_table, on='prefix', how='left')\n",
    "\n"
   ]
  },
  {
   "cell_type": "code",
   "execution_count": 5,
   "metadata": {},
   "outputs": [],
   "source": [
    "train_pivot_table = pd.pivot_table(train_df, index='prefix', values='label', aggfunc=np.mean)\n",
    "train_pivot_table.reset_index(inplace=True)\n",
    "train_pivot_table.rename(columns={'label':'label_mean'}, inplace=True)\n"
   ]
  },
  {
   "cell_type": "code",
   "execution_count": 6,
   "metadata": {},
   "outputs": [],
   "source": [
    "valid_df = pd.merge(valid_df, train_pivot_table, on='prefix', how='left')\n"
   ]
  },
  {
   "cell_type": "code",
   "execution_count": 7,
   "metadata": {},
   "outputs": [],
   "source": [
    "train_prefix_set = set(train_df['prefix'])\n",
    "valid_df['is_prefix_in'] = valid_df['prefix'].map(lambda x : 1 if x in train_prefix_set else 0)\n",
    "test_df['is_prefix_in'] = test_df['prefix'].map(lambda x : 1 if x in train_prefix_set else 0)\n",
    "\n",
    "train_title_set = set(train_df['title'])\n",
    "valid_df['is_title_in'] = valid_df['title'].map(lambda x : 1 if x in train_title_set else 0)\n",
    "test_df['is_title_in'] = test_df['title'].map(lambda x : 1 if x in train_title_set else 0)\n"
   ]
  },
  {
   "cell_type": "code",
   "execution_count": 8,
   "metadata": {},
   "outputs": [
    {
     "name": "stdout",
     "output_type": "stream",
     "text": [
      "50000\n",
      "966\n"
     ]
    }
   ],
   "source": [
    "print(len(valid_df))\n",
    "print(len(valid_df[(valid_df.is_prefix_in == 1) & (valid_df.is_title_in == 0) & (valid_df.prefix_number <= 3)]))\n"
   ]
  },
  {
   "cell_type": "code",
   "execution_count": 15,
   "metadata": {},
   "outputs": [],
   "source": [
    "def result_deal(df):\n",
    "    is_prefix_in = df['is_prefix_in']\n",
    "    is_title_in = df['is_title_in']\n",
    "    prefix_number = df['prefix_number']\n",
    "    pred = df['pred']\n",
    "    label_mean = df['label_mean']\n",
    "    if (is_prefix_in == 1) & (is_title_in == 0) & (prefix_number == 3):\n",
    "        if label_mean > 0:\n",
    "            pred = pred / 2\n",
    "        else:\n",
    "            pred = pred + (1 - pred) / 2\n",
    "    return pred\n",
    "\n",
    "valid_df['pred_after'] = valid_df.apply(result_deal, axis=1)\n",
    "        \n"
   ]
  },
  {
   "cell_type": "code",
   "execution_count": 16,
   "metadata": {},
   "outputs": [
    {
     "name": "stdout",
     "output_type": "stream",
     "text": [
      "317\n"
     ]
    }
   ],
   "source": [
    "valid_df['is_deal'] = (valid_df['pred'] != valid_df['pred_after'])\n",
    "print(len(valid_df[valid_df.is_deal]))\n"
   ]
  },
  {
   "cell_type": "code",
   "execution_count": 17,
   "metadata": {},
   "outputs": [],
   "source": [
    "def getPredLabel(predArr, threshold=None, tops=None):\n",
    "    '''\n",
    "    ������ֵ���ط���Ԥ����\n",
    "    '''\n",
    "    if tops is not None :\n",
    "        temp = np.sort(np.array(predArr))\n",
    "        if tops < 1:\n",
    "            threshold = temp[-1*round(len(temp)*tops)]\n",
    "        else:\n",
    "            threshold = temp[-round(tops)]\n",
    "    if threshold is None:\n",
    "        print('[Error] could not get threshold value.')\n",
    "        exit()\n",
    "    return (predArr>=threshold).astype(int)\n",
    "\n",
    "def findF1Threshold(predictList, labelList, thrList=None):\n",
    "    '''\n",
    "    Ѱ��F1�����ֵ\n",
    "    '''\n",
    "    tempDf = pd.DataFrame({'predict':predictList, 'label':labelList})\n",
    "    trueNum = len(tempDf[tempDf.label==1])\n",
    "    if thrList is None:\n",
    "        thrList = np.unique(tempDf['predict'])\n",
    "    f1List = []\n",
    "    for thr in thrList:\n",
    "        tempDf['temp'] = getPredLabel(tempDf['predict'], thr)\n",
    "        TP = len(tempDf[(tempDf.label==1)&(tempDf.temp==1)])\n",
    "        if TP==0:\n",
    "            break\n",
    "        positiveNum = len(tempDf[tempDf.temp==1])\n",
    "        precise = TP / positiveNum\n",
    "        recall = TP / trueNum\n",
    "        f1 = 2 * precise * recall / (precise + recall)\n",
    "        f1List.append(f1)\n",
    "    f1Df = pd.DataFrame({'thr':thrList[:len(f1List)], 'f1':f1List}).sort_values(by=['f1','thr'], ascending=[False,True])\n",
    "    if thrList is None:\n",
    "        averThr = f1Df.head(5).sort_values(by=['thr']).head(4)['thr'].mean()    # ȡǰ5��ȥ�������ֵ��ȡƽ��\n",
    "        return averThr\n",
    "    else:\n",
    "        bestThr = thrList[f1List.index(max(f1List))]\n",
    "        return bestThr\n"
   ]
  },
  {
   "cell_type": "code",
   "execution_count": 18,
   "metadata": {},
   "outputs": [
    {
     "name": "stdout",
     "output_type": "stream",
     "text": [
      "[0.7375424304141209, 0.7390985373011142, 0.7396650118312996, 0.7406554681076003, 0.7420597185241536, 0.7449977070309671, 0.7455494317904698, 0.7476580218913322, 0.74749484049034, 0.7478932584269662, 0.7462679014219928, 0.7426820791390984, 0.7422181770901053, 0.740455414930692, 0.7398795053377021]\n"
     ]
    }
   ],
   "source": [
    "pred_f1_list = [f1_score(valid_df['label'], getPredLabel(valid_df['pred'], x * 0.01)) for x in range(30, 45)]\n",
    "print(pred_f1_list)\n"
   ]
  },
  {
   "cell_type": "code",
   "execution_count": 19,
   "metadata": {},
   "outputs": [
    {
     "name": "stdout",
     "output_type": "stream",
     "text": [
      "[0.7374830239927569, 0.7390387084938542, 0.7396338492238439, 0.7405719119340209, 0.7419577260514991, 0.7449068263010524, 0.7454212900865748, 0.7475902871933934, 0.747488811536549, 0.7479185474972414, 0.7462746983074859, 0.7426703390048649, 0.7422063908894724, 0.7404438156619245, 0.7398678996036989]\n"
     ]
    }
   ],
   "source": [
    "pred_after_f1_list = [f1_score(valid_df['label'], getPredLabel(valid_df['pred_after'], x * 0.01)) for x in range(30, 45)]\n",
    "print(pred_after_f1_list)\n"
   ]
  },
  {
   "cell_type": "code",
   "execution_count": 20,
   "metadata": {},
   "outputs": [
    {
     "name": "stdout",
     "output_type": "stream",
     "text": [
      "27\n",
      "27\n"
     ]
    }
   ],
   "source": [
    "print(len(valid_df[(valid_df.pred_after > 0.5) & (valid_df.is_deal) & (valid_df.label == 0)]))\n",
    "print(len(valid_df[(valid_df.pred_after < 0.5) & (valid_df.is_deal) & (valid_df.label == 1)]))\n",
    "\n"
   ]
  },
  {
   "cell_type": "code",
   "execution_count": null,
   "metadata": {},
   "outputs": [],
   "source": []
  }
 ],
 "metadata": {
  "kernelspec": {
   "display_name": "Python 3",
   "language": "python",
   "name": "python3"
  },
  "language_info": {
   "codemirror_mode": {
    "name": "ipython",
    "version": 3
   },
   "file_extension": ".py",
   "mimetype": "text/x-python",
   "name": "python",
   "nbconvert_exporter": "python",
   "pygments_lexer": "ipython3",
   "version": "3.6.3"
  }
 },
 "nbformat": 4,
 "nbformat_minor": 2
}
